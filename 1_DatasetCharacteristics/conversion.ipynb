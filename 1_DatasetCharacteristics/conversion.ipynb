{
 "cells": [
  {
   "metadata": {
    "ExecuteTime": {
     "end_time": "2024-05-23T10:40:33.858935Z",
     "start_time": "2024-05-23T10:40:33.846935Z"
    }
   },
   "cell_type": "code",
   "source": [
    "import os\n",
    "\n",
    "import nibabel as nib\n",
    "import numpy as np\n",
    "import pandas as pd\n",
    "from PIL import Image\n",
    "from skimage import io\n",
    "from tqdm import tqdm"
   ],
   "id": "39062d2808e67134",
   "outputs": [],
   "execution_count": 26
  },
  {
   "metadata": {
    "ExecuteTime": {
     "end_time": "2024-05-23T10:40:38.646944Z",
     "start_time": "2024-05-23T10:40:38.630950Z"
    }
   },
   "cell_type": "code",
   "source": [
    "# Get filenames and folder\n",
    "def get_filenames(folder):\n",
    "    filenames = []\n",
    "    for root, dirs, files in os.walk(folder):\n",
    "        for file in files:\n",
    "            if file.endswith(\".nii.gz\"):\n",
    "                filenames.append(os.path.join(root, file))\n",
    "\n",
    "    return filenames"
   ],
   "id": "285ccb4290822dc4",
   "outputs": [],
   "execution_count": 27
  },
  {
   "metadata": {
    "ExecuteTime": {
     "end_time": "2024-05-23T10:54:12.120460Z",
     "start_time": "2024-05-23T10:40:41.548249Z"
    }
   },
   "cell_type": "code",
   "source": [
    "# iterate over every image, load it, and save it as a png\n",
    "\n",
    "image_files = get_filenames(\"data\")\n",
    "for file in tqdm(image_files):\n",
    "    image = nib.load(file)\n",
    "    image = image.get_fdata()\n",
    "    image = image.astype(np.uint8)\n",
    "    image = Image.fromarray(image)\n",
    "    image.save(file.replace(\".nii.gz\", \".png\"))\n",
    "    os.remove(file)"
   ],
   "id": "55d6d0f88740b8e5",
   "outputs": [
    {
     "name": "stderr",
     "output_type": "stream",
     "text": [
      "100%|██████████| 916/916 [13:30<00:00,  1.13it/s]\n"
     ]
    }
   ],
   "execution_count": 28
  },
  {
   "metadata": {},
   "cell_type": "markdown",
   "source": "Create the final datasets by loading the target, and saving only the layer containing the proximal femur",
   "id": "a190a927aae5cee8"
  },
  {
   "metadata": {
    "ExecuteTime": {
     "end_time": "2024-05-23T10:55:04.411576Z",
     "start_time": "2024-05-23T10:55:04.403579Z"
    }
   },
   "cell_type": "code",
   "source": [
    "def get_targets(folder):\n",
    "    filenames = []\n",
    "    for root, dirs, files in os.walk(folder):\n",
    "        for file in files:\n",
    "            if file.endswith(\".png\") and \"targets\" in root:\n",
    "                filenames.append(os.path.join(root, file))\n",
    "    return filenames"
   ],
   "id": "e050c562d2e86bd0",
   "outputs": [],
   "execution_count": 29
  },
  {
   "metadata": {
    "ExecuteTime": {
     "end_time": "2024-05-23T10:58:16.450472Z",
     "start_time": "2024-05-23T10:57:38.655122Z"
    }
   },
   "cell_type": "code",
   "source": [
    "# Get all target filenames\n",
    "\n",
    "target_files = get_targets(\"data\")\n",
    "for file in tqdm(target_files):\n",
    "    image = io.imread(file)\n",
    "    image = (image == 1).astype(np.uint8) * 255\n",
    "    image = Image.fromarray(image)\n",
    "    image.save(file)"
   ],
   "id": "4a70bc2e9dd57645",
   "outputs": [
    {
     "name": "stderr",
     "output_type": "stream",
     "text": [
      "100%|██████████| 458/458 [00:37<00:00, 12.12it/s]\n"
     ]
    }
   ],
   "execution_count": 31
  },
  {
   "metadata": {
    "ExecuteTime": {
     "end_time": "2024-05-23T10:59:15.426075Z",
     "start_time": "2024-05-23T10:58:20.036735Z"
    }
   },
   "cell_type": "code",
   "source": [
    "# Check if the images are correct\n",
    "files = get_targets(\"data\")\n",
    "\n",
    "data = []\n",
    "for file in tqdm(files):\n",
    "    image = io.imread(file)\n",
    "    this_data = {\"image\":  file,\n",
    "                 \"max\":    np.max(image),\n",
    "                 \"min\":    np.min(image),\n",
    "                 \"unique\": len(np.unique(image))\n",
    "                 }\n",
    "    data.append(this_data)\n",
    "df = pd.DataFrame(data)"
   ],
   "id": "d57cff06697783b5",
   "outputs": [
    {
     "name": "stderr",
     "output_type": "stream",
     "text": [
      "100%|██████████| 458/458 [00:55<00:00,  8.27it/s]\n"
     ]
    }
   ],
   "execution_count": 32
  }
 ],
 "metadata": {
  "kernelspec": {
   "display_name": "Python 3",
   "language": "python",
   "name": "python3"
  },
  "language_info": {
   "codemirror_mode": {
    "name": "ipython",
    "version": 2
   },
   "file_extension": ".py",
   "mimetype": "text/x-python",
   "name": "python",
   "nbconvert_exporter": "python",
   "pygments_lexer": "ipython2",
   "version": "2.7.6"
  }
 },
 "nbformat": 4,
 "nbformat_minor": 5
}
